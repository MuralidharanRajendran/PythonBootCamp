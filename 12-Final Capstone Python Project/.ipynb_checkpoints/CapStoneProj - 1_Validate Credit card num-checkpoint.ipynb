{
 "cells": [
  {
   "cell_type": "markdown",
   "metadata": {},
   "source": [
    "Credit card Num : 79927398713"
   ]
  },
  {
   "cell_type": "code",
   "execution_count": 129,
   "metadata": {},
   "outputs": [],
   "source": [
    "def valid_creditNum (CardNum):\n",
    "    li = []\n",
    "    y = len(str(CardNum))\n",
    "    for num in range(1,y+1):\n",
    "        rem = CardNum % 10\n",
    "        CardNum = CardNum / 10\n",
    "        a = (li.append(int(rem)))\n",
    "    return li\n",
    "    "
   ]
  },
  {
   "cell_type": "code",
   "execution_count": 130,
   "metadata": {},
   "outputs": [
    {
     "data": {
      "text/plain": [
       "[7, 9, 9, 2, 7, 3, 9, 8, 7, 1, 3]"
      ]
     },
     "execution_count": 130,
     "metadata": {},
     "output_type": "execute_result"
    }
   ],
   "source": [
    "\n",
    "newLi = valid_creditNum (79927398713)\n",
    "newLi.reverse()\n",
    "newLi"
   ]
  },
  {
   "cell_type": "code",
   "execution_count": 131,
   "metadata": {},
   "outputs": [],
   "source": [
    "def doubleNums(newLi):\n",
    "    \n",
    "    for x,nums in enumerate(newLi):\n",
    "        if x %2 != 0:\n",
    "            newLi[x] = newLi[x] * 2\n",
    "    return newLi\n",
    "            "
   ]
  },
  {
   "cell_type": "code",
   "execution_count": 132,
   "metadata": {},
   "outputs": [
    {
     "data": {
      "text/plain": [
       "[7, 18, 9, 4, 7, 6, 9, 16, 7, 2, 3]"
      ]
     },
     "execution_count": 132,
     "metadata": {},
     "output_type": "execute_result"
    }
   ],
   "source": [
    "doubleNums(newLi)"
   ]
  },
  {
   "cell_type": "code",
   "execution_count": 133,
   "metadata": {},
   "outputs": [],
   "source": [
    "def sumdigits(newLi):\n",
    "    for x,nums in enumerate(newLi):\n",
    "        if x %2 != 0 and nums > 9:\n",
    "            newLi[x] = nums%10 + int(nums/10)\n",
    "    sumis = ((sum(newLi) - newLi[-1])*9)%10 ==newLi[-1]\n",
    "    return sumis\n",
    "    \n",
    "    \n",
    "    "
   ]
  },
  {
   "cell_type": "code",
   "execution_count": 134,
   "metadata": {},
   "outputs": [
    {
     "data": {
      "text/plain": [
       "True"
      ]
     },
     "execution_count": 134,
     "metadata": {},
     "output_type": "execute_result"
    }
   ],
   "source": [
    "sumdigits(newLi)"
   ]
  },
  {
   "cell_type": "code",
   "execution_count": null,
   "metadata": {},
   "outputs": [],
   "source": []
  },
  {
   "cell_type": "code",
   "execution_count": null,
   "metadata": {},
   "outputs": [],
   "source": []
  }
 ],
 "metadata": {
  "kernelspec": {
   "display_name": "Python 3",
   "language": "python",
   "name": "python3"
  },
  "language_info": {
   "codemirror_mode": {
    "name": "ipython",
    "version": 3
   },
   "file_extension": ".py",
   "mimetype": "text/x-python",
   "name": "python",
   "nbconvert_exporter": "python",
   "pygments_lexer": "ipython3",
   "version": "3.7.6"
  }
 },
 "nbformat": 4,
 "nbformat_minor": 4
}
