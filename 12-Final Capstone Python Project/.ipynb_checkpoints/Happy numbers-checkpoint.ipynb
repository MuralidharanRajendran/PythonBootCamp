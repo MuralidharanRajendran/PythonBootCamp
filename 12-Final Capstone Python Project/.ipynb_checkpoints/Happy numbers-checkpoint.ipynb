{
 "cells": [
  {
   "cell_type": "markdown",
   "metadata": {},
   "source": [
    "Write an algorithm to determine if a number n is \"happy\".\n",
    "\n",
    "A happy number is a number defined by the following process: Starting with any positive integer, replace the number by the sum of the squares of its digits, and repeat the process until the number equals 1 (where it will stay), or it loops endlessly in a cycle which does not include 1. Those numbers for which this process ends in 1 are happy numbers.\n",
    "\n",
    "Return True if n is a happy number, and False if not.\n",
    "\n",
    "Example: \n",
    "\n",
    "Number = 32\n",
    "3**2+ 2**2 = 13\n",
    "1**2 + 3**2 = 10\n",
    "1**2 + 0**2 = 1"
   ]
  },
  {
   "cell_type": "markdown",
   "metadata": {},
   "source": [
    "def valid_creditNum (CardNum):\n",
    "    li = []\n",
    "    y = len(str(CardNum))\n",
    "    for num in range(1,y+1):\n",
    "        rem = CardNum % 10\n",
    "        CardNum = CardNum / 10\n",
    "        a = (li.append(int(rem)))\n",
    "    return li"
   ]
  },
  {
   "cell_type": "code",
   "execution_count": 9,
   "metadata": {},
   "outputs": [],
   "source": [
    "def checkHappyNum(Numb):\n",
    "    li = []\n",
    "    y = len(str(Numb))\n",
    "    for num in range(1,y+1):\n",
    "        rem = Numb % 10\n",
    "        Numb = Numb / 10\n",
    "        a = (li.append(int(rem)))\n",
    "    return li"
   ]
  },
  {
   "cell_type": "code",
   "execution_count": 10,
   "metadata": {},
   "outputs": [
    {
     "data": {
      "text/plain": [
       "[2, 3]"
      ]
     },
     "execution_count": 10,
     "metadata": {},
     "output_type": "execute_result"
    }
   ],
   "source": [
    "li = checkHappyNum(32)\n",
    "li"
   ]
  },
  {
   "cell_type": "code",
   "execution_count": 11,
   "metadata": {},
   "outputs": [],
   "source": [
    "def douleAndSq (li):\n",
    "    while True:\n",
    "        b = [num**2 for num in li]\n",
    "        newsum = sum(b)\n",
    "        print(li)\n",
    "        print(newsum)\n",
    "        li = checkHappyNum(newsum)\n",
    "        if newsum<10:\n",
    "            flag =False\n",
    "            break\n",
    "        \n",
    "        \n",
    "        \n",
    "    return newsum == 1"
   ]
  },
  {
   "cell_type": "code",
   "execution_count": 12,
   "metadata": {},
   "outputs": [
    {
     "name": "stdout",
     "output_type": "stream",
     "text": [
      "[2, 3]\n",
      "13\n",
      "[3, 1]\n",
      "10\n",
      "[0, 1]\n",
      "1\n"
     ]
    },
    {
     "data": {
      "text/plain": [
       "True"
      ]
     },
     "execution_count": 12,
     "metadata": {},
     "output_type": "execute_result"
    }
   ],
   "source": [
    "douleAndSq (li)"
   ]
  },
  {
   "cell_type": "code",
   "execution_count": null,
   "metadata": {},
   "outputs": [],
   "source": [
    "lig = [1,2,3]\n",
    "falg = True"
   ]
  },
  {
   "cell_type": "code",
   "execution_count": null,
   "metadata": {},
   "outputs": [],
   "source": [
    "while falg == True:\n",
    "    b = [num**2 for num in lig]\n",
    "    newsum = sum(b)\n",
    "    lig = checkHappyNum(newsum)\n",
    "    print(lig)\n",
    "    print(newsum)\n",
    "    if newsum<10:\n",
    "        flag =False\n",
    "        break\n",
    "    "
   ]
  },
  {
   "cell_type": "code",
   "execution_count": null,
   "metadata": {},
   "outputs": [],
   "source": [
    "lik = [1,2,3]\n",
    "k = [num**2 for num in lik]\n",
    "sum(k)"
   ]
  },
  {
   "cell_type": "code",
   "execution_count": null,
   "metadata": {},
   "outputs": [],
   "source": []
  },
  {
   "cell_type": "code",
   "execution_count": null,
   "metadata": {},
   "outputs": [],
   "source": []
  }
 ],
 "metadata": {
  "kernelspec": {
   "display_name": "Python 3",
   "language": "python",
   "name": "python3"
  },
  "language_info": {
   "codemirror_mode": {
    "name": "ipython",
    "version": 3
   },
   "file_extension": ".py",
   "mimetype": "text/x-python",
   "name": "python",
   "nbconvert_exporter": "python",
   "pygments_lexer": "ipython3",
   "version": "3.7.6"
  }
 },
 "nbformat": 4,
 "nbformat_minor": 4
}
