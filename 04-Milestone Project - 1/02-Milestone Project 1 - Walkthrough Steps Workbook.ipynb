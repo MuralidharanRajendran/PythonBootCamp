{
 "cells": [
  {
   "cell_type": "markdown",
   "metadata": {},
   "source": [
    "# Milestone Project 1: Walkthrough Steps Workbook\n",
    "\n",
    "Below is a set of steps for you to follow to try to create the Tic Tac Toe Milestone Project game!"
   ]
  },
  {
   "cell_type": "markdown",
   "metadata": {},
   "source": [
    "#### Some suggested tools before you get started:\n",
    "To take input from a user:\n",
    "\n",
    "    player1 = input(\"Please pick a marker 'X' or 'O'\")\n",
    "    \n",
    "Note that input() takes in a string. If you need an integer value, use\n",
    "\n",
    "    position = int(input('Please enter a number'))\n",
    "    \n",
    "<br>To clear the screen between moves:\n",
    "\n",
    "    from IPython.display import clear_output\n",
    "    clear_output()\n",
    "    \n",
    "Note that clear_output() will only work in jupyter. To clear the screen in other IDEs, consider:\n",
    "\n",
    "    print('\\n'*100)\n",
    "    \n",
    "This scrolls the previous board up out of view. Now on to the program!"
   ]
  },
  {
   "cell_type": "markdown",
   "metadata": {},
   "source": [
    "**Step 1: Write a function that can print out a board. Set up your board as a list, where each index 1-9 corresponds with a number on a number pad, so you get a 3 by 3 board representation.**"
   ]
  },
  {
   "cell_type": "code",
   "execution_count": null,
   "metadata": {},
   "outputs": [],
   "source": [
    "from IPython.display import clear_output\n",
    "\n",
    "def display_board(board):\n",
    "    print(\"  |   |  \")\n",
    "    print(board[7]+\" | \" +board[8]+ \" | \" +board[9])\n",
    "    print(\"  |   |  \")\n",
    "    print(\"----------\")\n",
    "    print(\"  |   |  \")\n",
    "    print(board[4]+\" | \" +board[5]+ \" | \" +board[6])\n",
    "    print(\"  |   |  \")\n",
    "    print(\"----------\")\n",
    "    print(\"  |   |  \")\n",
    "    print(board[1]+\" | \" +board[2]+ \" | \" +board[3])\n",
    "    print(\"  |   |  \")"
   ]
  },
  {
   "cell_type": "markdown",
   "metadata": {},
   "source": [
    "**TEST Step 1:** run your function on a test version of the board list, and make adjustments as necessary"
   ]
  },
  {
   "cell_type": "code",
   "execution_count": null,
   "metadata": {},
   "outputs": [],
   "source": [
    "test_board = ['#','X','O','X','O','X','O','X','X','X']\n",
    "display_board(test_board)"
   ]
  },
  {
   "cell_type": "markdown",
   "metadata": {},
   "source": [
    "**Step 2: Write a function that can take in a player input and assign their marker as 'X' or 'O'. Think about using *while* loops to continually ask until you get a correct answer.**"
   ]
  },
  {
   "cell_type": "code",
   "execution_count": null,
   "metadata": {},
   "outputs": [],
   "source": [
    "def player_input():\n",
    "    preference = None\n",
    "    flag = False\n",
    "    while flag==False:\n",
    "        preference = (input(\"Yo, 'P1', you wanna be X or O ?\")).lower()\n",
    "        if (preference == 'x'):\n",
    "            print(\"\\n\")\n",
    "            print(\"Yo, P2 you are 'O' beetch!\" \"\\n\" \"\\n\" \"Lets get Started !\")\n",
    "            flag = True\n",
    "        elif preference == 'o':\n",
    "            print(\"\\n\")\n",
    "            print(\"Yo, P2 you are 'X' beetch!\" \"\\n\" \"\\n\" \"Lets get Started !\")\n",
    "            flag = True\n",
    "        else:\n",
    "            flag = False\n",
    "    return preference\n",
    "        \n",
    "        \n",
    "    "
   ]
  },
  {
   "cell_type": "markdown",
   "metadata": {},
   "source": [
    "**TEST Step 2:** run the function to make sure it returns the desired output"
   ]
  },
  {
   "cell_type": "code",
   "execution_count": null,
   "metadata": {},
   "outputs": [],
   "source": [
    "player_input()"
   ]
  },
  {
   "cell_type": "markdown",
   "metadata": {},
   "source": [
    "**Step 3: Write a function that takes in the board list object, a marker ('X' or 'O'), and a desired position (number 1-9) and assigns it to the board.**"
   ]
  },
  {
   "cell_type": "code",
   "execution_count": null,
   "metadata": {},
   "outputs": [],
   "source": [
    "def place_marker(board, marker, position):\n",
    "    board[position] = marker\n",
    "    "
   ]
  },
  {
   "cell_type": "markdown",
   "metadata": {},
   "source": [
    "**TEST Step 3:** run the place marker function using test parameters and display the modified board"
   ]
  },
  {
   "cell_type": "code",
   "execution_count": null,
   "metadata": {},
   "outputs": [],
   "source": [
    "place_marker(test_board,'x',8)\n",
    "display_board(test_board)"
   ]
  },
  {
   "cell_type": "markdown",
   "metadata": {},
   "source": [
    "**Step 4: Write a function that takes in a board and a mark (X or O) and then checks to see if that mark has won. **"
   ]
  },
  {
   "cell_type": "code",
   "execution_count": null,
   "metadata": {},
   "outputs": [],
   "source": [
    "def win_check(board, mark):\n",
    "    return ((board[7] == mark and board[8] == mark and board[9] == mark) or # across the top\n",
    "    (board[4] == mark and board[5] == mark and board[6] == mark) or # across the middle\n",
    "    (board[1] == mark and board[2] == mark and board[3] == mark) or # across the bottom\n",
    "    (board[7] == mark and board[4] == mark and board[1] == mark) or # down the middle\n",
    "    (board[8] == mark and board[5] == mark and board[2] == mark) or # down the middle\n",
    "    (board[9] == mark and board[6] == mark and board[3] == mark) or # down the right side\n",
    "    (board[7] == mark and board[5] == mark and board[3] == mark) or # diagonal\n",
    "    (board[9] == mark and board[5] == mark and board[1] == mark)) # diagonal"
   ]
  },
  {
   "cell_type": "markdown",
   "metadata": {},
   "source": [
    "**TEST Step 4:** run the win_check function against our test_board - it should return True"
   ]
  },
  {
   "cell_type": "code",
   "execution_count": null,
   "metadata": {},
   "outputs": [],
   "source": [
    "win_check(test_board,'X')"
   ]
  },
  {
   "cell_type": "markdown",
   "metadata": {},
   "source": [
    "**Step 5: Write a function that uses the random module to randomly decide which player goes first. You may want to lookup random.randint() Return a string of which player went first.**"
   ]
  },
  {
   "cell_type": "code",
   "execution_count": null,
   "metadata": {},
   "outputs": [],
   "source": [
    "import random\n",
    "\n",
    "def choose_first():\n",
    "    num = random.randint(1,10)\n",
    "    if num>=5:\n",
    "        return 'Player-2'\n",
    "    else:\n",
    "        return 'Player-1'"
   ]
  },
  {
   "cell_type": "markdown",
   "metadata": {},
   "source": [
    "**Step 6: Write a function that returns a boolean indicating whether a space on the board is freely available.**"
   ]
  },
  {
   "cell_type": "code",
   "execution_count": 1,
   "metadata": {},
   "outputs": [],
   "source": [
    "def space_check(board, position):\n",
    "        if board[int(position)] == \" \":\n",
    "            return True\n",
    "        else:\n",
    "            return False\n",
    "        \n",
    "       \n",
    "    "
   ]
  },
  {
   "cell_type": "markdown",
   "metadata": {},
   "source": [
    "**Step 7: Write a function that checks if the board is full and returns a boolean value. True if full, False otherwise.**"
   ]
  },
  {
   "cell_type": "code",
   "execution_count": 2,
   "metadata": {},
   "outputs": [],
   "source": [
    "def full_board_check(board):\n",
    "    count = board.count(\" \")\n",
    "    if count>=1:\n",
    "        return False\n",
    "    else:\n",
    "        return True\n",
    "        \n",
    "        \n",
    "    \n",
    "        "
   ]
  },
  {
   "cell_type": "markdown",
   "metadata": {},
   "source": [
    "**Step 8: Write a function that asks for a player's next position (as a number 1-9) and then uses the function from step 6 to check if it's a free position. If it is, then return the position for later use.**"
   ]
  },
  {
   "cell_type": "code",
   "execution_count": 3,
   "metadata": {},
   "outputs": [],
   "source": [
    "def player_choice(board):\n",
    "    if win_check(initial_board, marker) != True:\n",
    "        position = input(\"Enter where you wanna put your marker next (1 to 9): \")\n",
    "        isavailable =space_check(board, position)\n",
    "        print(isavailable)\n",
    "        if isavailable == True:\n",
    "            return position\n",
    "        else:\n",
    "            return 'Cannot place the marker there. Already occupied!'"
   ]
  },
  {
   "cell_type": "markdown",
   "metadata": {},
   "source": [
    "**Step 9: Write a function that asks the player if they want to play again and returns a boolean True if they do want to play again.**"
   ]
  },
  {
   "cell_type": "code",
   "execution_count": null,
   "metadata": {},
   "outputs": [],
   "source": [
    "def replay():\n",
    "    playagain = input(\"Fun eh? Do you wanna do it again bae? Y/N :\")\n",
    "    if playagain.lower() == 'y':\n",
    "        return True\n",
    "    else:\n",
    "        return False"
   ]
  },
  {
   "cell_type": "code",
   "execution_count": null,
   "metadata": {},
   "outputs": [],
   "source": [
    "#My method\n",
    "def mymethod():\n",
    "    if wincheck != True:\n",
    "        markposition = player_choice(initial_board)\n",
    "        print(\"\\n\"*10)\n",
    "        place_marker(initial_board, marker, int(markposition))\n",
    "        display_board(initial_board)\n",
    "        winCheck = win_check(initial_board, marker)\n",
    "    "
   ]
  },
  {
   "cell_type": "markdown",
   "metadata": {
    "collapsed": true
   },
   "source": [
    "**Step 10: Here comes the hard part! Use while loops and the functions you've made to run the game!**"
   ]
  },
  {
   "cell_type": "code",
   "execution_count": null,
   "metadata": {},
   "outputs": [],
   "source": [
    "print('Welcome to Tic Tac Toe!')\n",
    "print(\"***************************\")\n",
    "flag = True\n",
    "while flag == True:\n",
    "    # Set the game up here\n",
    "    marker =player_input()\n",
    "    goesFirst = choose_first()\n",
    "    print(\"\\n\")\n",
    "    print(goesFirst +\" will go first\")\n",
    "    print(\"\\n\")\n",
    "    ready = input(\"Are you ready \"+goesFirst+\" Y/N:\")\n",
    "    if ready.lower() == 'y':\n",
    "        print(\"ok\")\n",
    "    else:\n",
    "        print(\"Fuck off!\")\n",
    "        break\n",
    "    \n",
    "    initial_board = ['$',' ',' ',' ',' ',' ',' ',' ',' ',' ']\n",
    "    display_board(initial_board)\n",
    "    wincheck = win_check(initial_board, marker)\n",
    "    \n",
    "    while wincheck == False:\n",
    "        # Player 1 Turn\n",
    "        #print(win_check(initial_board, marker))\n",
    "        if marker == \"x\":\n",
    "            mymethod()\n",
    "            marker = \"o\"\n",
    "         # Player2's turn.\n",
    "        if marker == \"o\":\n",
    "            mymethod()\n",
    "            marker = \"x\"\n",
    "        wincheck = win_check(initial_board, marker)\n",
    "        \n",
    "        #elif win_check(initial_board, marker) == True:\n",
    "         #   break\n",
    "    \n",
    "        \n",
    "        \n",
    "    #break\n",
    "        \n",
    "       \n",
    "            \n",
    "            #pass\n",
    "    #if not replay():\n",
    "    if win_check(initial_board, marker) == True:\n",
    "        print(\"\\n\"*5)\n",
    "        print(\"YOU WIN !!\")\n",
    "        print(\"\\n\"*10)\n",
    "        if replay() == False:\n",
    "            print(\"\\n\"*5)\n",
    "            print(\"Bubye\")\n",
    "            break\n",
    "        else:\n",
    "            flag = True\n",
    "    \n",
    "    \n",
    "    \n",
    "    \n",
    "    \n",
    "    \n",
    "    \n",
    "    "
   ]
  },
  {
   "cell_type": "markdown",
   "metadata": {},
   "source": [
    "## while wincheck == False:\n",
    "        # Player 1 Turn\n",
    "        print(win_check(initial_board, marker))\n",
    "        if marker == \"x\":\n",
    "            markposition = player_choice(initial_board)\n",
    "            print(\"\\n\"*10)\n",
    "            place_marker(initial_board, marker, int(markposition))\n",
    "            display_board(initial_board)\n",
    "            winCheck = win_check(initial_board, marker)\n",
    "            marker = \"o\"\n",
    "         # Player2's turn.\n",
    "        if marker == \"o\":\n",
    "            markposition = player_choice(initial_board)\n",
    "            print(\"\\n\"*10)\n",
    "            place_marker(initial_board, marker, int(markposition))\n",
    "            display_board(initial_board)\n",
    "            winCheck = win_check(initial_board, marker)\n",
    "            marker = \"x\"\n",
    "        if wincheck == True:\n",
    "            break\n",
    "        \n",
    "        #elif win_check(initial_board, marker) == True:\n",
    "         #   break\n",
    "    \n",
    "        \n",
    "        \n",
    "    #break\n",
    "        \n",
    "       \n",
    "            \n",
    "            #pass\n",
    "    #if not replay():\n",
    "    if win_check(initial_board, marker) == True:\n",
    "        print(initial_board)\n",
    "        print(win_check(initial_board, marker))\n",
    "        print(\"\\n\"*10)\n",
    "        if replay() == False:\n",
    "            print(\"\\n\"*5)\n",
    "            print(\"Bubye\")\n",
    "            break\n",
    "        else:\n",
    "            flag = True"
   ]
  },
  {
   "cell_type": "markdown",
   "metadata": {
    "collapsed": true
   },
   "source": [
    "###### Good Job!"
   ]
  }
 ],
 "metadata": {
  "kernelspec": {
   "display_name": "Python 3",
   "language": "python",
   "name": "python3"
  },
  "language_info": {
   "codemirror_mode": {
    "name": "ipython",
    "version": 3
   },
   "file_extension": ".py",
   "mimetype": "text/x-python",
   "name": "python",
   "nbconvert_exporter": "python",
   "pygments_lexer": "ipython3",
   "version": "3.7.6"
  }
 },
 "nbformat": 4,
 "nbformat_minor": 1
}
