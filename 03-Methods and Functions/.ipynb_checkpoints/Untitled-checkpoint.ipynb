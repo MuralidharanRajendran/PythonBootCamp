{
 "cells": [
  {
   "cell_type": "code",
   "execution_count": 22,
   "metadata": {},
   "outputs": [],
   "source": [
    "def primenumbers(uptonumber):\n",
    "    \n",
    "   \n",
    "    \"\"\"\n",
    "    Report :\n",
    "    INPUT : Enter the until which the prime numbers has to be used\n",
    "    OUTPUT : Gives the prime numbers\n",
    "    \"\"\"\n",
    "    for numbers in range(2,uptonumber):\n",
    "        if numbers%1 == 0 and numbers%numbers ==0 and numbers%:\n",
    "            print(numbers)\n",
    "    return numbers\n",
    "    \n",
    "        "
   ]
  },
  {
   "cell_type": "code",
   "execution_count": null,
   "metadata": {},
   "outputs": [],
   "source": []
  },
  {
   "cell_type": "code",
   "execution_count": null,
   "metadata": {},
   "outputs": [],
   "source": []
  },
  {
   "cell_type": "code",
   "execution_count": null,
   "metadata": {},
   "outputs": [],
   "source": []
  }
 ],
 "metadata": {
  "kernelspec": {
   "display_name": "Python 3",
   "language": "python",
   "name": "python3"
  },
  "language_info": {
   "codemirror_mode": {
    "name": "ipython",
    "version": 3
   },
   "file_extension": ".py",
   "mimetype": "text/x-python",
   "name": "python",
   "nbconvert_exporter": "python",
   "pygments_lexer": "ipython3",
   "version": "3.7.6"
  }
 },
 "nbformat": 4,
 "nbformat_minor": 4
}
