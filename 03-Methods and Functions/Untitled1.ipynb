{
 "cells": [
  {
   "cell_type": "code",
   "execution_count": 2,
   "metadata": {},
   "outputs": [
    {
     "name": "stdout",
     "output_type": "stream",
     "text": [
      "Hello World\n"
     ]
    }
   ],
   "source": [
    "def myfunc():\n",
    "    print('Hello World')\n",
    "myfunc()"
   ]
  },
  {
   "cell_type": "code",
   "execution_count": 19,
   "metadata": {},
   "outputs": [],
   "source": [
    "def myfunc(*args):\n",
    "    oplist= []\n",
    "    for numbers in args:\n",
    "        if numbers%2 == 0:\n",
    "            oplist.append(numbers)\n",
    "    return oplist"
   ]
  },
  {
   "cell_type": "code",
   "execution_count": 20,
   "metadata": {},
   "outputs": [
    {
     "data": {
      "text/plain": [
       "[2, 4]"
      ]
     },
     "execution_count": 20,
     "metadata": {},
     "output_type": "execute_result"
    }
   ],
   "source": [
    "myfunc(2,3,4)"
   ]
  },
  {
   "cell_type": "code",
   "execution_count": 96,
   "metadata": {},
   "outputs": [],
   "source": [
    "def myfunc(word):\n",
    "    op = []\n",
    "    for letters in range(len(word)):\n",
    "        if letters%2==0:\n",
    "            op.append(word[letters].lower())\n",
    "        else:\n",
    "            op.append(word[letters].upper())\n",
    "    return ''.join(op)\n",
    "        "
   ]
  },
  {
   "cell_type": "code",
   "execution_count": 97,
   "metadata": {},
   "outputs": [
    {
     "data": {
      "text/plain": [
       "'wOrD'"
      ]
     },
     "execution_count": 97,
     "metadata": {},
     "output_type": "execute_result"
    }
   ],
   "source": [
    "myfunc(\"word\")"
   ]
  },
  {
   "cell_type": "code",
   "execution_count": 100,
   "metadata": {},
   "outputs": [],
   "source": [
    "def myfunc(s):\n",
    "    result='' # create the result container string\n",
    "    \n",
    "    for i,l in enumerate(s): #enum over the string i=index l=char in the returned tuple\n",
    "        if i%2==0: #check to see if the index is even with mod 2\n",
    "            result+=l.upper() #it's even. upper the char and append it to the result\n",
    "        else:\n",
    "            result+=l.lower() #it's odd. lower the char and append it to the result\n",
    "            \n",
    "    return result #gimme that result"
   ]
  },
  {
   "cell_type": "code",
   "execution_count": 101,
   "metadata": {},
   "outputs": [
    {
     "name": "stdout",
     "output_type": "stream",
     "text": [
      "0 w\n",
      "1 o\n",
      "2 r\n",
      "3 d\n"
     ]
    },
    {
     "data": {
      "text/plain": [
       "'WoRd'"
      ]
     },
     "execution_count": 101,
     "metadata": {},
     "output_type": "execute_result"
    }
   ],
   "source": [
    "myfunc(\"word\")"
   ]
  },
  {
   "cell_type": "code",
   "execution_count": 110,
   "metadata": {},
   "outputs": [
    {
     "data": {
      "text/plain": [
       "'L'"
      ]
     },
     "execution_count": 110,
     "metadata": {},
     "output_type": "execute_result"
    }
   ],
   "source": [
    "Str = \"Levelheaded Llama\"\n",
    "li = Str.split()\n",
    "str2 = li[1]\n",
    "str2[0]"
   ]
  },
  {
   "cell_type": "code",
   "execution_count": 122,
   "metadata": {},
   "outputs": [
    {
     "data": {
      "text/plain": [
       "'home am I'"
      ]
     },
     "execution_count": 122,
     "metadata": {},
     "output_type": "execute_result"
    }
   ],
   "source": [
    "Stred = 'I am home'\n",
    "op = Stred.split()\n",
    "new = op[::-1]\n",
    "\" \".join(new)\n"
   ]
  },
  {
   "cell_type": "code",
   "execution_count": 131,
   "metadata": {},
   "outputs": [
    {
     "data": {
      "text/plain": [
       "3"
      ]
     },
     "execution_count": 131,
     "metadata": {},
     "output_type": "execute_result"
    }
   ],
   "source": [
    "li = [1,3,3]\n",
    "indexOfThree = li.index(3)\n",
    "nextToThree = li[indexOfThree+1]\n",
    "nextToThree"
   ]
  },
  {
   "cell_type": "code",
   "execution_count": 158,
   "metadata": {},
   "outputs": [
    {
     "data": {
      "text/plain": [
       "'HHHeeeyyy'"
      ]
     },
     "execution_count": 158,
     "metadata": {},
     "output_type": "execute_result"
    }
   ],
   "source": [
    "sample = \"Hey\"\n",
    "lsit = []\n",
    "for letters in sample:\n",
    "    lsit.append(letters*3)\n",
    "\"\".join(lsit)"
   ]
  },
  {
   "cell_type": "code",
   "execution_count": 184,
   "metadata": {},
   "outputs": [
    {
     "name": "stdout",
     "output_type": "stream",
     "text": [
      "Invalid input\n"
     ]
    }
   ],
   "source": [
    "li = [1,3,0,5,9]\n",
    "booleanSix = 6 in li\n",
    "booleanNine = 9 in li\n",
    "total = 0\n",
    "if booleanSix==False and booleanNine==False:\n",
    "    for numbers in li:\n",
    "        total = total+numbers\n",
    "    print (total)\n",
    "elif booleanSix==True and booleanNine==True:\n",
    "    indexOfSix = li.index(6)\n",
    "    indexOfNine = li.index(9)\n",
    "    finallist = li[indexOfSix:indexOfNine+1]\n",
    "    for nums in finallist:\n",
    "        total = total+nums\n",
    "    print(total)\n",
    "else:\n",
    "    print(\"Invalid input\")"
   ]
  },
  {
   "cell_type": "code",
   "execution_count": 181,
   "metadata": {},
   "outputs": [
    {
     "data": {
      "text/plain": [
       "[3]"
      ]
     },
     "execution_count": 181,
     "metadata": {},
     "output_type": "execute_result"
    }
   ],
   "source": [
    "lus = [1,3,6,5,8,9]\n",
    "lus[1:2]"
   ]
  },
  {
   "cell_type": "code",
   "execution_count": 248,
   "metadata": {},
   "outputs": [
    {
     "name": "stdout",
     "output_type": "stream",
     "text": [
      "5\n",
      "True\n"
     ]
    }
   ],
   "source": [
    "newli = [1,2,4,0,0,7,5]\n",
    "indexOfFirstZero = 0\n",
    "indexOfSecondZero = 0\n",
    "indexOfSeven = 0\n",
    "lastzero = 0\n",
    "noOfZeroes = newli.count(0)\n",
    "isSevenPresent = 7 in newli\n",
    "liIndexOfZero = []\n",
    "for position,number in enumerate(newli):\n",
    "    if noOfZeroes == 2 and isSevenPresent == True:\n",
    "        if number==0:\n",
    "            indexOfZero = position\n",
    "            liIndexOfZero.append(position)\n",
    "        if number == 7:\n",
    "            indexOfSeven = position\n",
    "            print(indexOfSeven)\n",
    "indexOfFirstZero =liIndexOfZero[0]\n",
    "indexOfSecondZero=liIndexOfZero[-1]\n",
    "if indexOfFirstZero<indexOfSecondZero<indexOfSeven:\n",
    "    print(True) \n",
    "else:\n",
    "    print(False) \n",
    "    \n",
    "    \n",
    "        \n"
   ]
  },
  {
   "cell_type": "code",
   "execution_count": null,
   "metadata": {},
   "outputs": [],
   "source": []
  },
  {
   "cell_type": "code",
   "execution_count": null,
   "metadata": {},
   "outputs": [],
   "source": []
  },
  {
   "cell_type": "code",
   "execution_count": null,
   "metadata": {},
   "outputs": [],
   "source": [
    "newli = [1,2,4,0,0,5,7]\n",
    "IndexFirstZero = newli.index(0)\n",
    "print(newli)\n",
    "\n",
    "newliTwo = newli[IndexZero+1:]\n",
    "IndexNextZero =  newliTwo.index(0)\n",
    "print(newliTwo)\n",
    "\n",
    "newliThree = newliTwo[IndexNextZero+1:]\n",
    "IndexSeven = newliTwo.index(7)\n",
    "print(newliThree)"
   ]
  }
 ],
 "metadata": {
  "kernelspec": {
   "display_name": "Python 3",
   "language": "python",
   "name": "python3"
  },
  "language_info": {
   "codemirror_mode": {
    "name": "ipython",
    "version": 3
   },
   "file_extension": ".py",
   "mimetype": "text/x-python",
   "name": "python",
   "nbconvert_exporter": "python",
   "pygments_lexer": "ipython3",
   "version": "3.7.6"
  }
 },
 "nbformat": 4,
 "nbformat_minor": 4
}
